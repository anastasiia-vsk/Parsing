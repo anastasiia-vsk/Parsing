{
 "cells": [
  {
   "cell_type": "markdown",
   "metadata": {},
   "source": [
    "Виконати парсинг текстових даних з довільного сайту.\n"
   ]
  },
  {
   "cell_type": "code",
   "execution_count": 19,
   "metadata": {},
   "outputs": [],
   "source": [
    "from bs4 import BeautifulSoup as bs\n",
    "import requests"
   ]
  },
  {
   "cell_type": "code",
   "execution_count": 20,
   "metadata": {},
   "outputs": [],
   "source": [
    "main_url = \"https://www.javatpoint.com/simple-html-pages\"\n",
    "req = requests.get(main_url)"
   ]
  },
  {
   "cell_type": "code",
   "execution_count": 21,
   "metadata": {},
   "outputs": [],
   "source": [
    "soup = bs(req.text, \"html.parser\")"
   ]
  },
  {
   "cell_type": "code",
   "execution_count": 22,
   "metadata": {},
   "outputs": [
    {
     "name": "stdout",
     "output_type": "stream",
     "text": [
      "Simple HTML Pages\n"
     ]
    }
   ],
   "source": [
    "title = soup.find(\"h1\")\n",
    "print(title.text)"
   ]
  },
  {
   "cell_type": "code",
   "execution_count": 23,
   "metadata": {},
   "outputs": [
    {
     "data": {
      "text/plain": [
       "16"
      ]
     },
     "execution_count": 23,
     "metadata": {},
     "output_type": "execute_result"
    }
   ],
   "source": [
    "tags = soup.find_all(\"h2\")\n",
    "len(tags)"
   ]
  },
  {
   "cell_type": "code",
   "execution_count": 24,
   "metadata": {},
   "outputs": [
    {
     "name": "stdout",
     "output_type": "stream",
     "text": [
      "HTML Tutorial\n",
      "HTML Attributes\n",
      "HTML Tags List\n",
      "HTML5 Advance\n",
      "HTML API\n",
      "HTML Color Names\n",
      "HTML Misc\n",
      "MCQ\n",
      "Interview Questions\n",
      "Help Others, Please Share\n",
      "Learn Latest Tutorials\n",
      "Preparation\n",
      "Trending Technologies\n",
      "B.Tech / MCA\n",
      "Javatpoint Services\n",
      "Training For College Campus\n"
     ]
    }
   ],
   "source": [
    "for tag in tags:\n",
    "    print(tag.text)"
   ]
  },
  {
   "cell_type": "code",
   "execution_count": 25,
   "metadata": {},
   "outputs": [
    {
     "name": "stdout",
     "output_type": "stream",
     "text": [
      "\n",
      "<Html> <!-- This tag is compulsory for any HTML document. --> \n",
      "<Head>\n",
      "<!-- The Head tag is used to create a title of web page, CSS syntax for a web page, and helps in written a JavaScript code. -->\n",
      "</Head>\n",
      "<Body>\n",
      "<!-- The Body tag is used to display the content on a web page. In this example we do not specify any content or any tag, so in output nothing will display on the web page. -->\n",
      "</Body>\n",
      "</Html>\n",
      "\n"
     ]
    }
   ],
   "source": [
    "codeblock = soup.find(\"div\", class_ = \"codeblock\")\n",
    "print(codeblock.text)"
   ]
  },
  {
   "cell_type": "code",
   "execution_count": 33,
   "metadata": {},
   "outputs": [
    {
     "data": {
      "text/plain": [
       "407"
      ]
     },
     "execution_count": 33,
     "metadata": {},
     "output_type": "execute_result"
    }
   ],
   "source": [
    "all_a = soup.find_all(\"a\")\n",
    "# print(all_a)\n",
    "len(all_a)"
   ]
  },
  {
   "cell_type": "code",
   "execution_count": 26,
   "metadata": {},
   "outputs": [
    {
     "data": {
      "text/plain": [
       "<a href=\"https://www.facebook.com/sharer.php?u=https://www.javatpoint.com/simple-html-pages\" rel=\"nofollow\" target=\"_blank\" title=\"Facebook\"><img alt=\"facebook\" src=\"https://www.javatpoint.com/images/facebook32.png\"/></a>"
      ]
     },
     "execution_count": 26,
     "metadata": {},
     "output_type": "execute_result"
    }
   ],
   "source": [
    "facebook = soup.find(\"a\", title = \"Facebook\")\n",
    "facebook"
   ]
  },
  {
   "cell_type": "code",
   "execution_count": 30,
   "metadata": {},
   "outputs": [
    {
     "name": "stdout",
     "output_type": "stream",
     "text": [
      "[<a href=\"https://www.javatpoint.com\"><img alt=\"home\" src=\"https://static.javatpoint.com/images/icon/home.png\"> Home</img></a>, <a class=\"selected\" href=\"html-tutorial\"><img alt=\"html\" src=\"https://static.javatpoint.com/images/icon/html.png\"/> HTML</a>, <a href=\"xhtml-tutorial\"><img alt=\"xhtml\" src=\"https://static.javatpoint.com/images/icon/xhtml.png\"/> XHTML</a>, <a href=\"css-tutorial\"><img alt=\"CSS\" src=\"https://static.javatpoint.com/images/icon/css.png\"/> CSS</a>, <a href=\"javascript-tutorial\"><img alt=\"javascript\" src=\"https://static.javatpoint.com/images/icon/js.png\"/> JavaScript</a>, <a href=\"bootstrap-tutorial\"><img alt=\"Bootstrap\" src=\"https://static.javatpoint.com/images/icon/bootstrap.png\"/> Bootstrap</a>, <a href=\"jquery-tutorial\"><img alt=\"jQuery\" src=\"https://static.javatpoint.com/images/icon/jquery.png\"/> jQuery</a>, <a href=\"php-tutorial\"><img alt=\"php\" src=\"https://static.javatpoint.com/images/icon/php.png\"/> PHP</a>, <a href=\"xml-tutorial\"><img alt=\"XML\" src=\"https://static.javatpoint.com/images/icon/xml.png\"/> XML</a>, <a href=\"json-tutorial\"><img alt=\"JSON\" src=\"https://static.javatpoint.com/images/icon/json.png\"/> JSON</a>, <a href=\"python-tutorial\"><img alt=\"python\" src=\"https://static.javatpoint.com/images/icon/python.png\"/> Python</a>, <a href=\"cpp-tutorial\"><img alt=\"c++\" src=\"https://static.javatpoint.com/images/icon/cpp.png\"/> C++</a>, <a href=\"java-tutorial\"><img alt=\"java\" src=\"https://static.javatpoint.com/images/icon/java.png\"/> Java</a>, <a href=\"c-sharp-tutorial\"><img alt=\"c#\" src=\"https://static.javatpoint.com/images/icon/csharp.png\"/> C#</a>, <a href=\"sql-tutorial\"><img alt=\"sql\" src=\"https://static.javatpoint.com/images/icon/sql.png\"/> SQL</a>, <a href=\"html-interview-questions\"><img alt=\"interview questions\" src=\"https://static.javatpoint.com/images/icon/interview.png\"/> Interview Q</a>]\n"
     ]
    }
   ],
   "source": [
    "menu = soup.find(\"div\", class_ = \"ddsmoothmenu\").find(\"ul\").find_all(\"a\")\n",
    "print(menu)"
   ]
  },
  {
   "cell_type": "code",
   "execution_count": 36,
   "metadata": {},
   "outputs": [
    {
     "name": "stdout",
     "output_type": "stream",
     "text": [
      "https://www.javatpoint.com\n",
      "html-tutorial\n",
      "xhtml-tutorial\n",
      "css-tutorial\n",
      "javascript-tutorial\n",
      "bootstrap-tutorial\n",
      "jquery-tutorial\n",
      "php-tutorial\n",
      "xml-tutorial\n",
      "json-tutorial\n",
      "python-tutorial\n",
      "cpp-tutorial\n",
      "java-tutorial\n",
      "c-sharp-tutorial\n",
      "sql-tutorial\n",
      "html-interview-questions\n"
     ]
    }
   ],
   "source": [
    "for i in menu:\n",
    "    url = i.get(\"href\")\n",
    "    \n",
    "    print(url)"
   ]
  }
 ],
 "metadata": {
  "kernelspec": {
   "display_name": "Python 3",
   "language": "python",
   "name": "python3"
  },
  "language_info": {
   "codemirror_mode": {
    "name": "ipython",
    "version": 3
   },
   "file_extension": ".py",
   "mimetype": "text/x-python",
   "name": "python",
   "nbconvert_exporter": "python",
   "pygments_lexer": "ipython3",
   "version": "3.10.8 (tags/v3.10.8:aaaf517, Oct 11 2022, 16:50:30) [MSC v.1933 64 bit (AMD64)]"
  },
  "orig_nbformat": 4,
  "vscode": {
   "interpreter": {
    "hash": "a6511e6b41b26ba86cca7483749cf4dd15bf137a2672e550741a656e19bba82e"
   }
  }
 },
 "nbformat": 4,
 "nbformat_minor": 2
}
