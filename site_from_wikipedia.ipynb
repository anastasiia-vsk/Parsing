{
 "cells": [
  {
   "cell_type": "markdown",
   "id": "d0967204",
   "metadata": {},
   "source": [
    "Виконати парсинг сторінки з вікіпедії."
   ]
  },
  {
   "cell_type": "code",
   "execution_count": 1,
   "id": "2bf88bfc",
   "metadata": {},
   "outputs": [],
   "source": [
    "from bs4 import BeautifulSoup as bs\n",
    "import requests"
   ]
  },
  {
   "cell_type": "code",
   "execution_count": 16,
   "id": "9e5a2abe",
   "metadata": {},
   "outputs": [],
   "source": [
    "main_url = \"https://uk.wikipedia.org/wiki/%D0%9C%D0%B0%D1%80%D1%81_(%D0%BF%D0%BB%D0%B0%D0%BD%D0%B5%D1%82%D0%B0)\"\n",
    "req = requests.get(main_url)"
   ]
  },
  {
   "cell_type": "code",
   "execution_count": 17,
   "id": "a4746357",
   "metadata": {},
   "outputs": [],
   "source": [
    "soup = bs(req.text, \"html.parser\")"
   ]
  },
  {
   "cell_type": "code",
   "execution_count": 18,
   "id": "8096c313",
   "metadata": {},
   "outputs": [
    {
     "name": "stdout",
     "output_type": "stream",
     "text": [
      "Марс (планета)\n"
     ]
    }
   ],
   "source": [
    "title = soup.find(\"h1\", class_ = \"firstHeading\")\n",
    "print(title.get_text())"
   ]
  },
  {
   "cell_type": "code",
   "execution_count": 19,
   "id": "fe793fec",
   "metadata": {},
   "outputs": [
    {
     "data": {
      "text/plain": [
       "[<span class=\"mw-headline\" id=\"Загальна_характеристика\">Загальна характеристика</span>,\n",
       " <span class=\"mw-headline\" id=\"Орбіта\">Орбіта</span>,\n",
       " <span class=\"mw-headline\" id=\"Фізична_характеристика\">Фізична характеристика</span>,\n",
       " <span class=\"mw-headline\" id=\"Планетологія\">Планетологія</span>,\n",
       " <span class=\"mw-headline\" id=\"Марсіанські_гірські_породи\">Марсіанські гірські породи</span>,\n",
       " <span class=\"mw-headline\" id=\"Внутрішня_будова\">Внутрішня будова</span>,\n",
       " <span class=\"mw-headline\" id=\"Геологічна_історія\">Геологічна історія</span>,\n",
       " <span class=\"mw-headline\" id=\"Температурний_режим_та_атмосфера\">Температурний режим та атмосфера</span>,\n",
       " <span class=\"mw-headline\" id=\"Рельєф\">Рельєф</span>,\n",
       " <span class=\"mw-headline\" id=\"Ареографія\">Ареографія</span>,\n",
       " <span class=\"mw-headline\" id=\"Магнітне_поле_й_магнітосфера\">Магнітне поле й магнітосфера</span>,\n",
       " <span class=\"mw-headline\" id=\"Льодові_утворення\">Льодові утворення</span>,\n",
       " <span class=\"mw-headline\" id=\"Життя_на_Марсі\">Життя на Марсі</span>,\n",
       " <span class=\"mw-headline\" id=\"Супутники_Марса\">Супутники Марса</span>,\n",
       " <span class=\"mw-headline\" id=\"Історія_вивчення\">Історія вивчення</span>,\n",
       " <span class=\"mw-headline\" id=\"Дослідження_Марса_класичними_методами_астрономії\">Дослідження Марса класичними методами астрономії</span>,\n",
       " <span class=\"mw-headline\" id=\"Дослідження_Марса_космічними_апаратами\">Дослідження Марса космічними апаратами</span>,\n",
       " <span class=\"mw-headline\" id=\"Вивчення_з_допомогою_орбітальних_телескопів\">Вивчення з допомогою орбітальних телескопів</span>,\n",
       " <span class=\"mw-headline\" id=\"Дослідження_Марса_міжпланетними_станціями\">Дослідження Марса міжпланетними станціями</span>,\n",
       " <span class=\"mw-headline\" id=\"Радянські_дослідження\">Радянські дослідження</span>,\n",
       " <span class=\"mw-headline\" id=\"Американські_дослідження_у_XX_столітті\">Американські дослідження у XX столітті</span>,\n",
       " <span class=\"mw-headline\" id=\"У_наш_час\">У наш час</span>,\n",
       " <span class=\"mw-headline\" id=\"Марс_у_культурі\">Марс у культурі</span>,\n",
       " <span class=\"mw-headline\" id=\"Галерея\">Галерея</span>,\n",
       " <span class=\"mw-headline\" id=\"Див._також\">Див. також</span>,\n",
       " <span class=\"mw-headline\" id=\"Примітки\">Примітки</span>,\n",
       " <span class=\"mw-headline\" id=\"Посилання\">Посилання</span>]"
      ]
     },
     "execution_count": 19,
     "metadata": {},
     "output_type": "execute_result"
    }
   ],
   "source": [
    "tags = soup.find_all(\"span\", class_ = \"mw-headline\")\n",
    "tags"
   ]
  },
  {
   "cell_type": "code",
   "execution_count": 20,
   "id": "dddc0de7",
   "metadata": {},
   "outputs": [
    {
     "data": {
      "text/plain": [
       "['Загальна характеристика',\n",
       " 'Орбіта',\n",
       " 'Фізична характеристика',\n",
       " 'Планетологія',\n",
       " 'Марсіанські гірські породи',\n",
       " 'Внутрішня будова',\n",
       " 'Геологічна історія',\n",
       " 'Температурний режим та атмосфера',\n",
       " 'Рельєф',\n",
       " 'Ареографія',\n",
       " 'Магнітне поле й магнітосфера',\n",
       " 'Льодові утворення',\n",
       " 'Життя на Марсі',\n",
       " 'Супутники Марса',\n",
       " 'Історія вивчення',\n",
       " 'Дослідження Марса класичними методами астрономії',\n",
       " 'Дослідження Марса космічними апаратами',\n",
       " 'Вивчення з допомогою орбітальних телескопів',\n",
       " 'Дослідження Марса міжпланетними станціями',\n",
       " 'Радянські дослідження',\n",
       " 'Американські дослідження у XX столітті',\n",
       " 'У наш час',\n",
       " 'Марс у культурі',\n",
       " 'Галерея',\n",
       " 'Див. також',\n",
       " 'Примітки',\n",
       " 'Посилання']"
      ]
     },
     "execution_count": 20,
     "metadata": {},
     "output_type": "execute_result"
    }
   ],
   "source": [
    "mid_titles = []\n",
    "for i in tags:\n",
    "    mid_titles.append(i.get_text())\n",
    "    \n",
    "mid_titles"
   ]
  },
  {
   "cell_type": "code",
   "execution_count": 21,
   "id": "02262c8f",
   "metadata": {},
   "outputs": [
    {
     "data": {
      "text/plain": [
       "['Загальна характеристика',\n",
       " 'Орбіта',\n",
       " 'Фізична характеристика',\n",
       " 'Планетологія',\n",
       " 'Марсіанські гірські породи',\n",
       " 'Внутрішня будова',\n",
       " 'Геологічна історія',\n",
       " 'Температурний режим та атмосфера',\n",
       " 'Рельєф',\n",
       " 'Ареографія',\n",
       " 'Магнітне поле й магнітосфера',\n",
       " 'Льодові утворення',\n",
       " 'Життя на Марсі',\n",
       " 'Супутники Марса',\n",
       " 'Історія вивчення',\n",
       " 'Дослідження Марса класичними методами астрономії',\n",
       " 'Дослідження Марса космічними апаратами',\n",
       " 'Вивчення з допомогою орбітальних телескопів',\n",
       " 'Дослідження Марса міжпланетними станціями',\n",
       " 'Радянські дослідження',\n",
       " 'Американські дослідження у XX столітті',\n",
       " 'У наш час',\n",
       " 'Марс у культурі',\n",
       " 'Галерея',\n",
       " 'Див. також',\n",
       " 'Примітки',\n",
       " 'Посилання']"
      ]
     },
     "execution_count": 21,
     "metadata": {},
     "output_type": "execute_result"
    }
   ],
   "source": [
    "#спосіб 2\n",
    "mid_titles2 = [tags.get_text() for tags in soup.find_all(\"span\", class_ = \"mw-headline\")]\n",
    "mid_titles2"
   ]
  },
  {
   "cell_type": "code",
   "execution_count": 22,
   "id": "cf211f9d",
   "metadata": {},
   "outputs": [],
   "source": [
    "side_panel = soup.find(\"div\", id = \"mw-panel\").find_all(\"nav\", class_ = \"vector-menu\")\n",
    "# side_panel"
   ]
  },
  {
   "cell_type": "code",
   "execution_count": 23,
   "id": "f3effd14",
   "metadata": {},
   "outputs": [],
   "source": [
    "# side_block = side_panel.find_all(\"div\", class_ = \"vector-menu\")\n",
    "# side_block"
   ]
  },
  {
   "cell_type": "code",
   "execution_count": 24,
   "id": "6449a61c",
   "metadata": {},
   "outputs": [
    {
     "name": "stdout",
     "output_type": "stream",
     "text": [
      "['/wiki/%D0%93%D0%BE%D0%BB%D0%BE%D0%B2%D0%BD%D0%B0_%D1%81%D1%82%D0%BE%D1%80%D1%96%D0%BD%D0%BA%D0%B0', '/wiki/%D0%92%D1%96%D0%BA%D1%96%D0%BF%D0%B5%D0%B4%D1%96%D1%8F:%D0%9F%D0%BE%D1%82%D0%BE%D1%87%D0%BD%D1%96_%D0%BF%D0%BE%D0%B4%D1%96%D1%97', '/wiki/%D0%A1%D0%BF%D0%B5%D1%86%D1%96%D0%B0%D0%BB%D1%8C%D0%BD%D0%B0:%D0%9D%D0%BE%D0%B2%D1%96_%D1%80%D0%B5%D0%B4%D0%B0%D0%B3%D1%83%D0%B2%D0%B0%D0%BD%D0%BD%D1%8F', '/wiki/%D0%A1%D0%BF%D0%B5%D1%86%D1%96%D0%B0%D0%BB%D1%8C%D0%BD%D0%B0:%D0%9D%D0%BE%D0%B2%D1%96_%D1%81%D1%82%D0%BE%D1%80%D1%96%D0%BD%D0%BA%D0%B8', '/wiki/%D0%A1%D0%BF%D0%B5%D1%86%D1%96%D0%B0%D0%BB%D1%8C%D0%BD%D0%B0:%D0%92%D0%B8%D0%BF%D0%B0%D0%B4%D0%BA%D0%BE%D0%B2%D0%B0_%D1%81%D1%82%D0%BE%D1%80%D1%96%D0%BD%D0%BA%D0%B0']\n"
     ]
    }
   ],
   "source": [
    "dict_links = {}\n",
    "\n",
    "for num, block in enumerate(side_panel):\n",
    "    dict_links[num] = [link.get(\"href\") for link in block.find_all(\"a\", href = True)]\n",
    "    \n",
    "print(dict_links[0])"
   ]
  },
  {
   "cell_type": "code",
   "execution_count": 11,
   "id": "960bbfb2",
   "metadata": {},
   "outputs": [],
   "source": [
    "# list = []\n",
    "# for link in block.find_all(\"a\", href = True):\n",
    "#     list.append(link.get(\"href\"))\n",
    "    \n",
    "# list"
   ]
  }
 ],
 "metadata": {
  "kernelspec": {
   "display_name": "Python 3",
   "language": "python",
   "name": "python3"
  },
  "language_info": {
   "codemirror_mode": {
    "name": "ipython",
    "version": 3
   },
   "file_extension": ".py",
   "mimetype": "text/x-python",
   "name": "python",
   "nbconvert_exporter": "python",
   "pygments_lexer": "ipython3",
   "version": "3.10.8"
  },
  "vscode": {
   "interpreter": {
    "hash": "a6511e6b41b26ba86cca7483749cf4dd15bf137a2672e550741a656e19bba82e"
   }
  }
 },
 "nbformat": 4,
 "nbformat_minor": 5
}
