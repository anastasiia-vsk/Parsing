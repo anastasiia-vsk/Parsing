{
 "cells": [
  {
   "cell_type": "markdown",
   "id": "d0967204",
   "metadata": {},
   "source": [
    "Виконати парсинг сторінки з вікіпедії."
   ]
  },
  {
   "cell_type": "code",
   "execution_count": 1,
   "id": "2bf88bfc",
   "metadata": {},
   "outputs": [],
   "source": [
    "from bs4 import BeautifulSoup as bs\n",
    "import requests"
   ]
  },
  {
   "cell_type": "code",
   "execution_count": 2,
   "id": "9e5a2abe",
   "metadata": {},
   "outputs": [],
   "source": [
    "main_url = \"https://uk.wikipedia.org/wiki/Марс(планета)\"\n",
    "req = requests.get(main_url)"
   ]
  },
  {
   "cell_type": "code",
   "execution_count": 3,
   "id": "a4746357",
   "metadata": {},
   "outputs": [],
   "source": [
    "soup = bs(req.text, \"html.parser\")"
   ]
  },
  {
   "cell_type": "code",
   "execution_count": 4,
   "id": "8096c313",
   "metadata": {},
   "outputs": [
    {
     "name": "stdout",
     "output_type": "stream",
     "text": [
      "Марс(планета)\n"
     ]
    }
   ],
   "source": [
    "title = soup.find(\"h1\", class_ = \"firstHeading\")\n",
    "print(title.get_text())"
   ]
  },
  {
   "cell_type": "code",
   "execution_count": 5,
   "id": "fe793fec",
   "metadata": {},
   "outputs": [
    {
     "data": {
      "text/plain": [
       "[]"
      ]
     },
     "execution_count": 5,
     "metadata": {},
     "output_type": "execute_result"
    }
   ],
   "source": [
    "tags = soup.find_all(\"span\", class_ = \"mw-headline\")\n",
    "tags"
   ]
  },
  {
   "cell_type": "code",
   "execution_count": 6,
   "id": "dddc0de7",
   "metadata": {},
   "outputs": [
    {
     "data": {
      "text/plain": [
       "[]"
      ]
     },
     "execution_count": 6,
     "metadata": {},
     "output_type": "execute_result"
    }
   ],
   "source": [
    "mid_titles = []\n",
    "for i in tags:\n",
    "    mid_titles.append(i.get_text())\n",
    "    \n",
    "mid_titles"
   ]
  },
  {
   "cell_type": "code",
   "execution_count": 7,
   "id": "02262c8f",
   "metadata": {},
   "outputs": [
    {
     "data": {
      "text/plain": [
       "[]"
      ]
     },
     "execution_count": 7,
     "metadata": {},
     "output_type": "execute_result"
    }
   ],
   "source": [
    "#спосіб 2\n",
    "mid_titles2 = [tags.get_text() for tags in soup.find_all(\"span\", class_ = \"mw-headline\")]\n",
    "mid_titles2"
   ]
  },
  {
   "cell_type": "code",
   "execution_count": 8,
   "id": "cf211f9d",
   "metadata": {},
   "outputs": [],
   "source": [
    "side_panel = soup.find(\"div\", id = \"mw-panel\").find_all(\"nav\", class_ = \"vector-menu\")\n",
    "# side_panel"
   ]
  },
  {
   "cell_type": "code",
   "execution_count": 9,
   "id": "f3effd14",
   "metadata": {},
   "outputs": [],
   "source": [
    "# side_block = side_panel.find_all(\"div\", class_ = \"vector-menu\")\n",
    "# side_block"
   ]
  },
  {
   "cell_type": "code",
   "execution_count": 10,
   "id": "6449a61c",
   "metadata": {},
   "outputs": [
    {
     "name": "stdout",
     "output_type": "stream",
     "text": [
      "['/wiki/%D0%93%D0%BE%D0%BB%D0%BE%D0%B2%D0%BD%D0%B0_%D1%81%D1%82%D0%BE%D1%80%D1%96%D0%BD%D0%BA%D0%B0', '/wiki/%D0%92%D1%96%D0%BA%D1%96%D0%BF%D0%B5%D0%B4%D1%96%D1%8F:%D0%9F%D0%BE%D1%82%D0%BE%D1%87%D0%BD%D1%96_%D0%BF%D0%BE%D0%B4%D1%96%D1%97', '/wiki/%D0%A1%D0%BF%D0%B5%D1%86%D1%96%D0%B0%D0%BB%D1%8C%D0%BD%D0%B0:%D0%9D%D0%BE%D0%B2%D1%96_%D1%80%D0%B5%D0%B4%D0%B0%D0%B3%D1%83%D0%B2%D0%B0%D0%BD%D0%BD%D1%8F', '/wiki/%D0%A1%D0%BF%D0%B5%D1%86%D1%96%D0%B0%D0%BB%D1%8C%D0%BD%D0%B0:%D0%9D%D0%BE%D0%B2%D1%96_%D1%81%D1%82%D0%BE%D1%80%D1%96%D0%BD%D0%BA%D0%B8', '/wiki/%D0%A1%D0%BF%D0%B5%D1%86%D1%96%D0%B0%D0%BB%D1%8C%D0%BD%D0%B0:%D0%92%D0%B8%D0%BF%D0%B0%D0%B4%D0%BA%D0%BE%D0%B2%D0%B0_%D1%81%D1%82%D0%BE%D1%80%D1%96%D0%BD%D0%BA%D0%B0']\n"
     ]
    }
   ],
   "source": [
    "dict_links = {}\n",
    "\n",
    "for num, block in enumerate(side_panel):\n",
    "    dict_links[num] = [link.get(\"href\") for link in block.find_all(\"a\", href = True)]\n",
    "    \n",
    "print(dict_links[0])"
   ]
  },
  {
   "cell_type": "code",
   "execution_count": 11,
   "id": "960bbfb2",
   "metadata": {},
   "outputs": [],
   "source": [
    "# list = []\n",
    "# for link in block.find_all(\"a\", href = True):\n",
    "#     list.append(link.get(\"href\"))\n",
    "    \n",
    "# list"
   ]
  }
 ],
 "metadata": {
  "kernelspec": {
   "display_name": "Python 3",
   "language": "python",
   "name": "python3"
  },
  "language_info": {
   "codemirror_mode": {
    "name": "ipython",
    "version": 3
   },
   "file_extension": ".py",
   "mimetype": "text/x-python",
   "name": "python",
   "nbconvert_exporter": "python",
   "pygments_lexer": "ipython3",
   "version": "3.10.8 (tags/v3.10.8:aaaf517, Oct 11 2022, 16:50:30) [MSC v.1933 64 bit (AMD64)]"
  },
  "vscode": {
   "interpreter": {
    "hash": "a6511e6b41b26ba86cca7483749cf4dd15bf137a2672e550741a656e19bba82e"
   }
  }
 },
 "nbformat": 4,
 "nbformat_minor": 5
}
