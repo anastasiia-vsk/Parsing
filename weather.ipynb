{
 "cells": [
  {
   "cell_type": "markdown",
   "metadata": {},
   "source": [
    "Виконати парсинг погоди з сайту https: ``// meteo.gov.ua/``. \n",
    "\n",
    "Інформацію представити у форматі:\n",
    "Число - день тижня - температура - наявність опадів"
   ]
  },
  {
   "cell_type": "code",
   "execution_count": 1,
   "metadata": {},
   "outputs": [],
   "source": [
    "from bs4 import BeautifulSoup as bs\n",
    "import requests"
   ]
  },
  {
   "cell_type": "code",
   "execution_count": 2,
   "metadata": {},
   "outputs": [],
   "source": [
    "main_url = \"https://meteo.ua/ua#2022-10-24--10-00\"\n",
    "req = requests.get(main_url)"
   ]
  },
  {
   "cell_type": "code",
   "execution_count": 3,
   "metadata": {},
   "outputs": [],
   "source": [
    "soup = bs(req.text, \"html.parser\")"
   ]
  },
  {
   "cell_type": "code",
   "execution_count": 4,
   "metadata": {},
   "outputs": [
    {
     "name": "stdout",
     "output_type": "stream",
     "text": [
      "Погода в Києві на тиждень\n"
     ]
    }
   ],
   "source": [
    "title = soup.find(\"h1\")\n",
    "print(title.text)"
   ]
  },
  {
   "cell_type": "code",
   "execution_count": 5,
   "metadata": {},
   "outputs": [
    {
     "data": {
      "text/plain": [
       "'Погода Київ, 27 жовтня, четвер'"
      ]
     },
     "execution_count": 5,
     "metadata": {},
     "output_type": "execute_result"
    }
   ],
   "source": [
    "day = soup.find(\"div\", class_=\"weather-detail__main-title js-weather-detail-value\").text\n",
    "day = day.replace(\"\\n\", \"\")\n",
    "day"
   ]
  },
  {
   "cell_type": "code",
   "execution_count": 8,
   "metadata": {},
   "outputs": [
    {
     "data": {
      "text/plain": [
       "'+11'"
      ]
     },
     "execution_count": 8,
     "metadata": {},
     "output_type": "execute_result"
    }
   ],
   "source": [
    "temperature = soup.find(\"div\", class_=\"weather-detail__main-temp js-weather-detail-value\").text\n",
    "temperature"
   ]
  },
  {
   "cell_type": "code",
   "execution_count": 29,
   "metadata": {},
   "outputs": [
    {
     "data": {
      "text/plain": [
       "'похмура погода'"
      ]
     },
     "execution_count": 29,
     "metadata": {},
     "output_type": "execute_result"
    }
   ],
   "source": [
    "forecast = soup.find(\"div\", class_=\"weather-detail__main-specification js-weather-detail-value\").text\n",
    "forecast"
   ]
  },
  {
   "cell_type": "code",
   "execution_count": 13,
   "metadata": {},
   "outputs": [
    {
     "name": "stdout",
     "output_type": "stream",
     "text": [
      "Погода Київ, 27 жовтня, четвер, +11, похмура погода\n"
     ]
    }
   ],
   "source": [
    "weather = print(day + \", \" + temperatupe + \", \" + forecast)"
   ]
  },
  {
   "cell_type": "code",
   "execution_count": 28,
   "metadata": {},
   "outputs": [
    {
     "name": "stdout",
     "output_type": "stream",
     "text": [
      "Погода Київ, 27 жовтня, четвер\n",
      "Погода Київ, 28 жовтня, п'ятниця\n",
      "Погода Київ, 29 жовтня, субота\n",
      "Погода Київ, 30 жовтня, неділя\n",
      " Погода Київ, 31 жовтня, понеділок\n",
      " Погода Київ, 1 листопада, вівторок\n",
      " Погода Київ, 2 листопада, середа\n"
     ]
    }
   ],
   "source": [
    "week = soup.find_all(\"div\", class_=\"weather-detail__main-title js-weather-detail-value\")\n",
    "# week\n",
    "\n",
    "for wk in week:\n",
    "    day_of_the_week = print(wk.text.replace(\"\\n\", \"\"))\n",
    "    day_of_the_week\n"
   ]
  },
  {
   "cell_type": "code",
   "execution_count": 23,
   "metadata": {},
   "outputs": [
    {
     "name": "stdout",
     "output_type": "stream",
     "text": [
      "+11\n",
      "+8\n",
      "+10\n",
      "+14\n",
      "+7\n",
      "+8\n",
      "+8\n"
     ]
    }
   ],
   "source": [
    "temperature_week = soup.find_all(\"div\", class_=\"weather-detail__main-temp js-weather-detail-value\")\n",
    "# temperature_week\n",
    "\n",
    "for tmp in temperature_week:\n",
    "    tmp_week = print(tmp.text)\n",
    "    tmp_week\n"
   ]
  },
  {
   "cell_type": "code",
   "execution_count": 31,
   "metadata": {},
   "outputs": [
    {
     "name": "stdout",
     "output_type": "stream",
     "text": [
      "похмура погода\n",
      "легка хмарність\n",
      "похмура погода\n",
      "похмура погода\n",
      "помірна хмарність\n",
      "помірний дощ\n",
      "невеликий дощ\n"
     ]
    }
   ],
   "source": [
    "forecast_week = soup.find_all(\"div\", class_=\"weather-detail__main-specification js-weather-detail-value\")\n",
    "# forecast_week\n",
    "\n",
    "for fc in forecast_week:\n",
    "    fc_week = print(fc.text)\n",
    "    fc_week"
   ]
  },
  {
   "cell_type": "code",
   "execution_count": 32,
   "metadata": {},
   "outputs": [],
   "source": [
    "import pandas as pd"
   ]
  },
  {
   "cell_type": "code",
   "execution_count": 40,
   "metadata": {},
   "outputs": [],
   "source": [
    "data_dict = {\"Місто, день\": [\"Погода Київ, 27 жовтня, четвер\", \"Погода Київ, 28 жовтня, п'ятниця\", \"Погода Київ, 29 жовтня, субота\", 'Погода Київ, 30 жовтня, неділя', 'Погода Київ, 31 жовтня, понеділок', 'Погода Київ, 1 листопада, вівторок', 'Погода Київ, 2 листопада, середа'],\n",
    "             \"Температура\": ['+11', '+ 8', '+ 10', '+ 14', '+ 7', '+ 8', '+ 8'],\n",
    "             \"Опади\": ['похмура погода', 'легка хмарність', 'похмура погода', 'похмура погода', 'помірна хмарність', 'помірний дощ', 'невеликий дощ']\n",
    "}\n"
   ]
  },
  {
   "cell_type": "code",
   "execution_count": 41,
   "metadata": {},
   "outputs": [
    {
     "data": {
      "text/html": [
       "<div>\n",
       "<style scoped>\n",
       "    .dataframe tbody tr th:only-of-type {\n",
       "        vertical-align: middle;\n",
       "    }\n",
       "\n",
       "    .dataframe tbody tr th {\n",
       "        vertical-align: top;\n",
       "    }\n",
       "\n",
       "    .dataframe thead th {\n",
       "        text-align: right;\n",
       "    }\n",
       "</style>\n",
       "<table border=\"1\" class=\"dataframe\">\n",
       "  <thead>\n",
       "    <tr style=\"text-align: right;\">\n",
       "      <th></th>\n",
       "      <th>Місто, день</th>\n",
       "      <th>Температура</th>\n",
       "      <th>Опади</th>\n",
       "    </tr>\n",
       "  </thead>\n",
       "  <tbody>\n",
       "    <tr>\n",
       "      <th>0</th>\n",
       "      <td>Погода Київ, 27 жовтня, четвер</td>\n",
       "      <td>+11</td>\n",
       "      <td>похмура погода</td>\n",
       "    </tr>\n",
       "    <tr>\n",
       "      <th>1</th>\n",
       "      <td>Погода Київ, 28 жовтня, п'ятниця</td>\n",
       "      <td>+ 8</td>\n",
       "      <td>легка хмарність</td>\n",
       "    </tr>\n",
       "    <tr>\n",
       "      <th>2</th>\n",
       "      <td>Погода Київ, 29 жовтня, субота</td>\n",
       "      <td>+ 10</td>\n",
       "      <td>похмура погода</td>\n",
       "    </tr>\n",
       "    <tr>\n",
       "      <th>3</th>\n",
       "      <td>Погода Київ, 30 жовтня, неділя</td>\n",
       "      <td>+ 14</td>\n",
       "      <td>похмура погода</td>\n",
       "    </tr>\n",
       "    <tr>\n",
       "      <th>4</th>\n",
       "      <td>Погода Київ, 31 жовтня, понеділок</td>\n",
       "      <td>+ 7</td>\n",
       "      <td>помірна хмарність</td>\n",
       "    </tr>\n",
       "    <tr>\n",
       "      <th>5</th>\n",
       "      <td>Погода Київ, 1 листопада, вівторок</td>\n",
       "      <td>+ 8</td>\n",
       "      <td>помірний дощ</td>\n",
       "    </tr>\n",
       "    <tr>\n",
       "      <th>6</th>\n",
       "      <td>Погода Київ, 2 листопада, середа</td>\n",
       "      <td>+ 8</td>\n",
       "      <td>невеликий дощ</td>\n",
       "    </tr>\n",
       "  </tbody>\n",
       "</table>\n",
       "</div>"
      ],
      "text/plain": [
       "                          Місто, день Температура              Опади\n",
       "0      Погода Київ, 27 жовтня, четвер         +11     похмура погода\n",
       "1    Погода Київ, 28 жовтня, п'ятниця         + 8    легка хмарність\n",
       "2      Погода Київ, 29 жовтня, субота        + 10     похмура погода\n",
       "3      Погода Київ, 30 жовтня, неділя        + 14     похмура погода\n",
       "4   Погода Київ, 31 жовтня, понеділок         + 7  помірна хмарність\n",
       "5  Погода Київ, 1 листопада, вівторок         + 8       помірний дощ\n",
       "6    Погода Київ, 2 листопада, середа         + 8      невеликий дощ"
      ]
     },
     "execution_count": 41,
     "metadata": {},
     "output_type": "execute_result"
    }
   ],
   "source": [
    "df = pd.DataFrame(data_dict)\n",
    "df"
   ]
  },
  {
   "cell_type": "code",
   "execution_count": null,
   "metadata": {},
   "outputs": [],
   "source": []
  }
 ],
 "metadata": {
  "kernelspec": {
   "display_name": "Python 3",
   "language": "python",
   "name": "python3"
  },
  "language_info": {
   "codemirror_mode": {
    "name": "ipython",
    "version": 3
   },
   "file_extension": ".py",
   "mimetype": "text/x-python",
   "name": "python",
   "nbconvert_exporter": "python",
   "pygments_lexer": "ipython3",
   "version": "3.10.8"
  },
  "orig_nbformat": 4,
  "vscode": {
   "interpreter": {
    "hash": "a6511e6b41b26ba86cca7483749cf4dd15bf137a2672e550741a656e19bba82e"
   }
  }
 },
 "nbformat": 4,
 "nbformat_minor": 2
}
